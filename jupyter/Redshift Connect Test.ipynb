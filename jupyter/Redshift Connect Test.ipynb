{
 "cells": [
  {
   "cell_type": "code",
   "execution_count": 7,
   "metadata": {
    "collapsed": false
   },
   "outputs": [],
   "source": [
    "import psycopg2\n",
    "import psycopg2.extras\n",
    "import sys\n",
    "import json\n",
    "import boto3\n",
    "from datetime import datetime"
   ]
  },
  {
   "cell_type": "code",
   "execution_count": 8,
   "metadata": {
    "collapsed": true
   },
   "outputs": [],
   "source": [
    "file_dir = '/Users/jteruya/Downloads/'\n",
    "file = 'platypus_coinbase_pull_20180909132404.json'\n",
    "filepath = file_dir + file"
   ]
  },
  {
   "cell_type": "code",
   "execution_count": 9,
   "metadata": {
    "collapsed": false
   },
   "outputs": [],
   "source": [
    "conn = psycopg2.connect(host='redshift-cluster-1.cyd3mv333pds.us-east-2.redshift.amazonaws.com', dbname='dev', port='5439', user='awsuser', password='Platypus1')"
   ]
  },
  {
   "cell_type": "code",
   "execution_count": 10,
   "metadata": {
    "collapsed": false
   },
   "outputs": [],
   "source": [
    "cursor = conn.cursor()"
   ]
  },
  {
   "cell_type": "code",
   "execution_count": 11,
   "metadata": {
    "collapsed": false
   },
   "outputs": [],
   "source": [
    "with open(filepath) as f:\n",
    "    data = json.load(f)\n",
    "    prices = data['prices']\n",
    "    values = []\n",
    "    for price_element in prices:\n",
    "        price = price_element['price']\n",
    "        time = datetime.strptime(price_element['time'], '%Y-%m-%dT%H:%M:%SZ')\n",
    "        values.append((price, time))\n",
    "    #print values\n",
    "    psycopg2.extras.execute_values(cursor, \"INSERT INTO prices (price, time) VALUES %s\", values)\n",
    "conn.commit() "
   ]
  },
  {
   "cell_type": "code",
   "execution_count": 12,
   "metadata": {
    "collapsed": false
   },
   "outputs": [],
   "source": [
    "conn.close()"
   ]
  }
 ],
 "metadata": {
  "kernelspec": {
   "display_name": "Python 2",
   "language": "python",
   "name": "python2"
  },
  "language_info": {
   "codemirror_mode": {
    "name": "ipython",
    "version": 2
   },
   "file_extension": ".py",
   "mimetype": "text/x-python",
   "name": "python",
   "nbconvert_exporter": "python",
   "pygments_lexer": "ipython2",
   "version": "2.7.13"
  }
 },
 "nbformat": 4,
 "nbformat_minor": 2
}
